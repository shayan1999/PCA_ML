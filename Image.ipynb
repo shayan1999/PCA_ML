{
 "cells": [
  {
   "cell_type": "markdown",
   "metadata": {},
   "source": [
    "# Ali Rostami 610302040\n",
    "\n",
    "## series 4 of ML Trainings\n",
    "### Question 2"
   ]
  },
  {
   "cell_type": "markdown",
   "metadata": {},
   "source": [
    "## imports\n",
    "در بخش اول این برنامه لایبرری‌ها و چیزهایی که لازم است از خارج از برنامه وارد شوند را قرار می‌دهیم\n",
    "\n",
    "in this section we will import every library and outsider codes that we want to use later"
   ]
  },
  {
   "cell_type": "code",
   "execution_count": null,
   "metadata": {},
   "outputs": [],
   "source": [
    "import pandas as pd\n",
    "from sklearn.decomposition import PCA\n",
    "from sklearn.model_selection import RepeatedKFold\n",
    "from sklearn.metrics import mean_squared_error\n",
    "import matplotlib.pyplot as plt"
   ]
  },
  {
   "cell_type": "markdown",
   "metadata": {},
   "source": [
    "## Read csv\n",
    "در این بخش داده‌های مورد نیاز را در ۲ متغییر ذخیره میکنیم\n",
    "\n",
    "in this section we read data from Dataset folder and save them in 2 variables"
   ]
  },
  {
   "cell_type": "code",
   "execution_count": null,
   "metadata": {},
   "outputs": [],
   "source": [
    "train_data = pd.read_csv('Dataset/train.csv')\n",
    "test_data = pd.read_csv('Dataset/test.csv')"
   ]
  },
  {
   "cell_type": "markdown",
   "metadata": {},
   "source": [
    "## variables\n",
    "در این بخش متغییرهای پرتکرار را تعریف کرده‌ایم تا در صورت نیاز برای تغییر در بخش‌های مختلف تنها نیاز باشد این بخش را تغییر دهیم\n",
    "\n",
    "in this part we are going to define our variables so if we need to change anything in our program only change them from here."
   ]
  },
  {
   "cell_type": "code",
   "execution_count": null,
   "metadata": {},
   "outputs": [],
   "source": [
    "X_train_flat = train_data.values\n",
    "X_test_flat = test_data.values\n",
    "\n",
    "pca_dimensions = [200, 140, 100, 70, 45, 30, 15, 8, 3]\n",
    "n_splits= 5\n",
    "n_repeats= 10\n",
    "random_state= 42\n",
    "\n",
    "mse_scores = {dim: [] for dim in pca_dimensions}\n",
    "\n",
    "rkf = RepeatedKFold(n_splits=n_splits, n_repeats=n_repeats, random_state=random_state)\n"
   ]
  },
  {
   "cell_type": "markdown",
   "metadata": {},
   "source": [
    "## dimensions\n",
    "همینطور که در این بخش میبینید من ابعاد ۳۰۰ و ۵۰۰ را حذف کرده‌ام زیرا تعداد داده‌های ما مناسب برای این ابعاد نیست که میتوانید ارور دریافتی را ببینید\n",
    "\n",
    "as you can see I removed 300 and 500 dimensions in this section because minimum of our data features and samples were something about 240\n",
    "\n",
    "ValueError: n_components=300 must be between 0 and min(n_samples, n_features)=240 with svd_solver='full'\n",
    "\n"
   ]
  },
  {
   "cell_type": "markdown",
   "metadata": {},
   "source": [
    "## PCA for dimensions\n",
    "این بخش بخش اصلی سوال ما میباشد ما پی سی ای را برای ابعاد مختلف کاهش پی سی ای اجرا میکنیم و داده‌هایمان را در ۵ بخش برای ۱۰ بار جدا میکنیم و هر بار خطای مربع میانگین را ذخیره میکنیم\n",
    "\n",
    "this section is the most important part of our question so we are going to run PCA transformation for each number of reductions for this purpose we used 5 folds cross validation with 10 iterations and after that we calculate MSE error for each of them and save these data."
   ]
  },
  {
   "cell_type": "code",
   "execution_count": null,
   "metadata": {},
   "outputs": [],
   "source": [
    "for dim in pca_dimensions:\n",
    "    pca = PCA(n_components=dim)\n",
    "    \n",
    "    for train_index, test_index in rkf.split(X_train_flat):\n",
    "        X_train_cv, X_test_cv = X_train_flat[train_index], X_train_flat[test_index]\n",
    "        \n",
    "        pca.fit(X_train_cv)\n",
    "        \n",
    "        X_test_pca = pca.transform(X_test_cv)\n",
    "        X_test_reconstructed = pca.inverse_transform(X_test_pca)\n",
    "        \n",
    "        mse = mean_squared_error(X_test_cv, X_test_reconstructed)\n",
    "        mse_scores[dim].append(mse)"
   ]
  },
  {
   "cell_type": "markdown",
   "metadata": {},
   "source": [
    "## box plots\n",
    "در این بخش نمودار جعبه‌ای داده‌های به‌دست آمده از بخش قبل را رسم میکنیم تا بتوانیم میزان کاهش مورد نظر را پیدا کنیم\n",
    "\n",
    "in this section we are going to draw our box plots for the results of last section so we could analyze our results."
   ]
  },
  {
   "cell_type": "code",
   "execution_count": null,
   "metadata": {},
   "outputs": [],
   "source": [
    "plt.figure(figsize=(15, 10))\n",
    "plt.boxplot([mse_scores[dim] for dim in pca_dimensions], labels=[str(dim) for dim in pca_dimensions])\n",
    "plt.title('MSE for PCA Dimensions')\n",
    "plt.xlabel('PCA Dimensions')\n",
    "plt.ylabel('Mean Squared Error')\n",
    "plt.yscale('log')\n",
    "plt.show()"
   ]
  },
  {
   "cell_type": "markdown",
   "metadata": {},
   "source": [
    "## results\n",
    "به نمودارهای مختلف که برای هر کاهش بعد رسم شده دقت کنید ۲ مساله مهم برای این نتیجه‌گیری وجود دارد اول اینکه خطای ما بیش از حد بزرگ نباشد و محل شروع افزایش خطا را پیدا کنیم که با کنار هم گذاشتن این تفاسیر به نظر میرسد در حدود ۱۰۰ بعد نتایج نسبتا خوبی داریم\n",
    "\n",
    "Pay attention to the different plots for each decrease after drawing. There are 2 important issues for this conclusion. First, our error is not too big and we find the starting point of the error increase, which by putting these interpretations together, it seems to be around 100, we have relatively good results."
   ]
  },
  {
   "cell_type": "markdown",
   "metadata": {},
   "source": [
    "## test data\n",
    "در این بخش ابعاد داده تست را به ۱۰۰ کاهش میدهیم و برش میگردانیم و خطای مربع میانگین‌ها را حساب کرده و به عنوان نتیجه برمیگردانیم\n",
    "\n",
    "in this section we are going to reduce test data dimensions to 100 and inverse it after that we calculate the MSE error for it and return this number as our result."
   ]
  },
  {
   "cell_type": "code",
   "execution_count": null,
   "metadata": {},
   "outputs": [],
   "source": [
    "pca = PCA(n_components=100)\n",
    "pca.fit(X_train_flat)\n",
    "X_test_pca = pca.transform(X_test_flat)\n",
    "X_test_reconstructed = pca.inverse_transform(X_test_pca)\n",
    "mse = mean_squared_error(X_test_flat, X_test_reconstructed)\n",
    "print(f'The MSE between the original and reconstructed test data is: {mse}')"
   ]
  },
  {
   "cell_type": "markdown",
   "metadata": {},
   "source": [
    "## plot_images function\n",
    "در این بخش این تابع را تعریف کردم تا بتوانم داده‌ها را به آن بدهم و برایم عکس متناظرش را برگرداند\n",
    "\n",
    "in this section I defined plot_images function so I can give it my data and it returns the actual image of those data."
   ]
  },
  {
   "cell_type": "code",
   "execution_count": null,
   "metadata": {},
   "outputs": [],
   "source": [
    "def plot_images(images, titles, h, w, rows, cols):\n",
    "    plt.figure(figsize=(12, 9))\n",
    "    for i in range(rows * cols):\n",
    "        plt.subplot(rows, cols, i + 1)\n",
    "        plt.imshow(images[i].reshape((h, w)), cmap='gray')\n",
    "        plt.title(titles[i], size=12)\n",
    "        plt.xticks(())\n",
    "        plt.yticks(())\n",
    "    plt.show()"
   ]
  },
  {
   "cell_type": "markdown",
   "metadata": {},
   "source": [
    "## see the results\n",
    "در نهایت ۱۰ داده اول مجموعه دادگان تست را به همراه نسخه تغییر یافته و برگشته را به تابع بالایی میدهیم تا نتایچ را ببینیم که به نظر خوب می‌آید\n",
    "\n",
    "Finally we give our first 10 test data and transformed/inverse data to plot_image function so it can show us the result images and actually they are good enough I think."
   ]
  },
  {
   "cell_type": "code",
   "execution_count": null,
   "metadata": {},
   "outputs": [],
   "source": [
    "original_images = X_test_flat[:10]\n",
    "reconstructed_images = X_test_reconstructed[:10]\n",
    "\n",
    "plot_images(original_images, ['Original'] * 10, 64, 64, 2, 5)\n",
    "plot_images(reconstructed_images, ['Reconstructed'] * 10, 64, 64, 2, 5)\n"
   ]
  }
 ],
 "metadata": {
  "kernelspec": {
   "display_name": "Python 3",
   "language": "python",
   "name": "python3"
  },
  "language_info": {
   "codemirror_mode": {
    "name": "ipython",
    "version": 3
   },
   "file_extension": ".py",
   "mimetype": "text/x-python",
   "name": "python",
   "nbconvert_exporter": "python",
   "pygments_lexer": "ipython3",
   "version": "3.11.3"
  }
 },
 "nbformat": 4,
 "nbformat_minor": 2
}
